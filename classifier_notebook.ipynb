{
 "cells": [
  {
   "cell_type": "markdown",
   "metadata": {},
   "source": [
    "SCRIPT SCRAPING DI ODDS PORTAL\n",
    "================"
   ]
  },
  {
   "cell_type": "markdown",
   "metadata": {},
   "source": [
    "### Descrizione generale dello script\n",
    "*Per far funzionare lo script è necessario modificare il percorso del file chromedriver.exe, \n",
    "*o inserire nella cartella il proprio file.\n",
    "* La classe Scraper prende gli url dalla cartella leagues e crea un database dove inserisce i risultati\n",
    "* Estrae i dati dai tag html rilevanti\n",
    "* Aggiorna le righe con le informazioni raccolte"
   ]
  },
  {
   "cell_type": "markdown",
   "metadata": {},
   "source": [
    "![script](figura1.png)"
   ]
  },
  {
   "cell_type": "markdown",
   "metadata": {},
   "source": [
    "### Dati di interesse\n",
    "*Al fine di costruire la (futura) rete neurale, abbiamo selezionato le informazioni per noi rilevanti \n",
    "* Abbiamo costruito lo scraper in modo tale che salvesse le seguenti informazioni:\n",
    "    * I nomi delle 2 squadre del singolo match\n",
    "    * L'inizio e la fine delle quote \n",
    "    * Il risultato finale della partita\n",
    "    * Il campionato di appartenenza e l'area\n",
    "    * Il sito da cui prevenivano le singole quote\n",
    "    * La quota di 1,X,2\n",
    "* In questo modo per ogni partita abbiamo più righe, ogni riga dedicata all'estrazione delle informazioni da una fonte diversa\n",
    "* L'obiettivo di questo Scraper è quello di creare un dataset il più completo possibile, di dimensioni elevate"
   ]
  },
  {
   "cell_type": "markdown",
   "metadata": {},
   "source": [
    "![script](figura2.png)"
   ]
  },
  {
   "cell_type": "code",
   "execution_count": 43,
   "metadata": {},
   "outputs": [],
   "source": [
    "\n",
    "import pandas as pd\n",
    "from sklearn.model_selection import train_test_split\n",
    "from sklearn.ensemble import RandomForestClassifier\n",
    "from sklearn.metrics import accuracy_score\n",
    "from sklearn.linear_model import LogisticRegression"
   ]
  },
  {
   "cell_type": "code",
   "execution_count": 10,
   "metadata": {},
   "outputs": [],
   "source": [
    "df = pd.read_csv('./matches.csv')"
   ]
  },
  {
   "cell_type": "code",
   "execution_count": 11,
   "metadata": {
    "scrolled": false
   },
   "outputs": [
    {
     "data": {
      "text/html": [
       "<div>\n",
       "<style scoped>\n",
       "    .dataframe tbody tr th:only-of-type {\n",
       "        vertical-align: middle;\n",
       "    }\n",
       "\n",
       "    .dataframe tbody tr th {\n",
       "        vertical-align: top;\n",
       "    }\n",
       "\n",
       "    .dataframe thead th {\n",
       "        text-align: right;\n",
       "    }\n",
       "</style>\n",
       "<table border=\"1\" class=\"dataframe\">\n",
       "  <thead>\n",
       "    <tr style=\"text-align: right;\">\n",
       "      <th></th>\n",
       "      <th>league</th>\n",
       "      <th>area</th>\n",
       "      <th>retrieved_from_url</th>\n",
       "      <th>start_time</th>\n",
       "      <th>end_time</th>\n",
       "      <th>team1</th>\n",
       "      <th>team2</th>\n",
       "      <th>outcome</th>\n",
       "      <th>team1_odds</th>\n",
       "      <th>team2_odds</th>\n",
       "      <th>draw_odds</th>\n",
       "    </tr>\n",
       "  </thead>\n",
       "  <tbody>\n",
       "    <tr>\n",
       "      <th>0</th>\n",
       "      <td>Europa League</td>\n",
       "      <td>Europe</td>\n",
       "      <td>http://www.oddsportal.com/soccer/europe/europa...</td>\n",
       "      <td>1530204300</td>\n",
       "      <td>1530209700</td>\n",
       "      <td>Tre Fiori (San)</td>\n",
       "      <td>Bala (Wal)</td>\n",
       "      <td>TEAM1</td>\n",
       "      <td>7.50</td>\n",
       "      <td>1.33</td>\n",
       "      <td>4.78</td>\n",
       "    </tr>\n",
       "    <tr>\n",
       "      <th>1</th>\n",
       "      <td>Europa League</td>\n",
       "      <td>Europe</td>\n",
       "      <td>http://www.oddsportal.com/soccer/europe/europa...</td>\n",
       "      <td>1530201600</td>\n",
       "      <td>1530207000</td>\n",
       "      <td>B36 Torshavn (Fai)</td>\n",
       "      <td>St Josephs (Gib)</td>\n",
       "      <td>DRAW</td>\n",
       "      <td>1.34</td>\n",
       "      <td>6.80</td>\n",
       "      <td>4.90</td>\n",
       "    </tr>\n",
       "    <tr>\n",
       "      <th>2</th>\n",
       "      <td>Europa League</td>\n",
       "      <td>Europe</td>\n",
       "      <td>http://www.oddsportal.com/soccer/europe/europa...</td>\n",
       "      <td>1530201600</td>\n",
       "      <td>1530207000</td>\n",
       "      <td>Druids (Wal)</td>\n",
       "      <td>Trakai (Ltu)</td>\n",
       "      <td>DRAW</td>\n",
       "      <td>5.50</td>\n",
       "      <td>1.54</td>\n",
       "      <td>3.83</td>\n",
       "    </tr>\n",
       "    <tr>\n",
       "      <th>3</th>\n",
       "      <td>Europa League</td>\n",
       "      <td>Europe</td>\n",
       "      <td>http://www.oddsportal.com/soccer/europe/europa...</td>\n",
       "      <td>1530201600</td>\n",
       "      <td>1530207000</td>\n",
       "      <td>UE Engordany (And)</td>\n",
       "      <td>Folgore (San)</td>\n",
       "      <td>TEAM1</td>\n",
       "      <td>1.44</td>\n",
       "      <td>7.27</td>\n",
       "      <td>3.75</td>\n",
       "    </tr>\n",
       "    <tr>\n",
       "      <th>4</th>\n",
       "      <td>Europa League</td>\n",
       "      <td>Europe</td>\n",
       "      <td>http://www.oddsportal.com/soccer/europe/europa...</td>\n",
       "      <td>1530198000</td>\n",
       "      <td>1530203400</td>\n",
       "      <td>Birkirkara (Mlt)</td>\n",
       "      <td>Klaksvik (Fai)</td>\n",
       "      <td>DRAW</td>\n",
       "      <td>1.59</td>\n",
       "      <td>5.32</td>\n",
       "      <td>3.48</td>\n",
       "    </tr>\n",
       "  </tbody>\n",
       "</table>\n",
       "</div>"
      ],
      "text/plain": [
       "          league    area                                 retrieved_from_url  \\\n",
       "0  Europa League  Europe  http://www.oddsportal.com/soccer/europe/europa...   \n",
       "1  Europa League  Europe  http://www.oddsportal.com/soccer/europe/europa...   \n",
       "2  Europa League  Europe  http://www.oddsportal.com/soccer/europe/europa...   \n",
       "3  Europa League  Europe  http://www.oddsportal.com/soccer/europe/europa...   \n",
       "4  Europa League  Europe  http://www.oddsportal.com/soccer/europe/europa...   \n",
       "\n",
       "   start_time    end_time                team1               team2 outcome  \\\n",
       "0  1530204300  1530209700     Tre Fiori (San)         Bala (Wal)     TEAM1   \n",
       "1  1530201600  1530207000  B36 Torshavn (Fai)   St Josephs (Gib)      DRAW   \n",
       "2  1530201600  1530207000        Druids (Wal)       Trakai (Ltu)      DRAW   \n",
       "3  1530201600  1530207000  UE Engordany (And)      Folgore (San)     TEAM1   \n",
       "4  1530198000  1530203400    Birkirkara (Mlt)     Klaksvik (Fai)      DRAW   \n",
       "\n",
       "   team1_odds  team2_odds  draw_odds  \n",
       "0        7.50        1.33       4.78  \n",
       "1        1.34        6.80       4.90  \n",
       "2        5.50        1.54       3.83  \n",
       "3        1.44        7.27       3.75  \n",
       "4        1.59        5.32       3.48  "
      ]
     },
     "execution_count": 11,
     "metadata": {},
     "output_type": "execute_result"
    }
   ],
   "source": [
    "df.head()"
   ]
  },
  {
   "cell_type": "code",
   "execution_count": 94,
   "metadata": {},
   "outputs": [
    {
     "data": {
      "text/plain": [
       "457"
      ]
     },
     "execution_count": 94,
     "metadata": {},
     "output_type": "execute_result"
    }
   ],
   "source": [
    "len(df) # dimensioni dataset"
   ]
  },
  {
   "cell_type": "markdown",
   "metadata": {},
   "source": [
    "### OneHotEncoding sulla colonna 'outcome'"
   ]
  },
  {
   "cell_type": "code",
   "execution_count": 17,
   "metadata": {},
   "outputs": [],
   "source": [
    "outcome_encoded = pd.get_dummies(df['outcome']) # faccio OneHotEncoding sulla colonna 'outcome'\n",
    "df = pd.concat([df, outcome_encoded], axis = 1) # concateno le colonne risultato del OHE a df"
   ]
  },
  {
   "cell_type": "code",
   "execution_count": 22,
   "metadata": {
    "scrolled": true
   },
   "outputs": [
    {
     "data": {
      "text/html": [
       "<div>\n",
       "<style scoped>\n",
       "    .dataframe tbody tr th:only-of-type {\n",
       "        vertical-align: middle;\n",
       "    }\n",
       "\n",
       "    .dataframe tbody tr th {\n",
       "        vertical-align: top;\n",
       "    }\n",
       "\n",
       "    .dataframe thead th {\n",
       "        text-align: right;\n",
       "    }\n",
       "</style>\n",
       "<table border=\"1\" class=\"dataframe\">\n",
       "  <thead>\n",
       "    <tr style=\"text-align: right;\">\n",
       "      <th></th>\n",
       "      <th>league</th>\n",
       "      <th>area</th>\n",
       "      <th>retrieved_from_url</th>\n",
       "      <th>start_time</th>\n",
       "      <th>end_time</th>\n",
       "      <th>team1</th>\n",
       "      <th>team2</th>\n",
       "      <th>outcome</th>\n",
       "      <th>team1_odds</th>\n",
       "      <th>team2_odds</th>\n",
       "      <th>draw_odds</th>\n",
       "      <th>DRAW</th>\n",
       "      <th>TEAM1</th>\n",
       "      <th>TEAM2</th>\n",
       "    </tr>\n",
       "  </thead>\n",
       "  <tbody>\n",
       "    <tr>\n",
       "      <th>0</th>\n",
       "      <td>Europa League</td>\n",
       "      <td>Europe</td>\n",
       "      <td>http://www.oddsportal.com/soccer/europe/europa...</td>\n",
       "      <td>1530204300</td>\n",
       "      <td>1530209700</td>\n",
       "      <td>Tre Fiori (San)</td>\n",
       "      <td>Bala (Wal)</td>\n",
       "      <td>TEAM1</td>\n",
       "      <td>7.5</td>\n",
       "      <td>1.33</td>\n",
       "      <td>4.78</td>\n",
       "      <td>0</td>\n",
       "      <td>1</td>\n",
       "      <td>0</td>\n",
       "    </tr>\n",
       "  </tbody>\n",
       "</table>\n",
       "</div>"
      ],
      "text/plain": [
       "          league    area                                 retrieved_from_url  \\\n",
       "0  Europa League  Europe  http://www.oddsportal.com/soccer/europe/europa...   \n",
       "\n",
       "   start_time    end_time             team1         team2 outcome  team1_odds  \\\n",
       "0  1530204300  1530209700  Tre Fiori (San)   Bala (Wal)     TEAM1         7.5   \n",
       "\n",
       "   team2_odds  draw_odds  DRAW  TEAM1  TEAM2  \n",
       "0        1.33       4.78     0      1      0  "
      ]
     },
     "execution_count": 22,
     "metadata": {},
     "output_type": "execute_result"
    }
   ],
   "source": [
    "df.head(1)"
   ]
  },
  {
   "cell_type": "markdown",
   "metadata": {},
   "source": [
    "### Features\n",
    "* Quota 1\n",
    "* Quota 2\n",
    "* Quota X"
   ]
  },
  {
   "cell_type": "code",
   "execution_count": 19,
   "metadata": {},
   "outputs": [],
   "source": [
    "X = df.loc[:, ['team1_odds', 'team2_odds', 'draw_odds']].values # values per convertire il DataFrame in numpy array"
   ]
  },
  {
   "cell_type": "code",
   "execution_count": 20,
   "metadata": {},
   "outputs": [
    {
     "data": {
      "text/plain": [
       "array([[7.5 , 1.33, 4.78],\n",
       "       [1.34, 6.8 , 4.9 ],\n",
       "       [5.5 , 1.54, 3.83],\n",
       "       ...,\n",
       "       [4.75, 1.65, 3.5 ],\n",
       "       [3.3 , 2.04, 3.2 ],\n",
       "       [4.  , 1.85, 3.2 ]])"
      ]
     },
     "execution_count": 20,
     "metadata": {},
     "output_type": "execute_result"
    }
   ],
   "source": [
    "X"
   ]
  },
  {
   "cell_type": "code",
   "execution_count": 21,
   "metadata": {},
   "outputs": [
    {
     "data": {
      "text/plain": [
       "(457, 3)"
      ]
     },
     "execution_count": 21,
     "metadata": {},
     "output_type": "execute_result"
    }
   ],
   "source": [
    "X.shape # 457 righe, 3 colonne"
   ]
  },
  {
   "cell_type": "markdown",
   "metadata": {},
   "source": [
    "### Colonna Target\n",
    "* Vogliamo predire l'esito (DRAW, TEAM1, TEAM2)"
   ]
  },
  {
   "cell_type": "code",
   "execution_count": 25,
   "metadata": {},
   "outputs": [],
   "source": [
    "y = df.loc[:, ['DRAW', 'TEAM1', 'TEAM2']].values"
   ]
  },
  {
   "cell_type": "code",
   "execution_count": 26,
   "metadata": {},
   "outputs": [
    {
     "data": {
      "text/plain": [
       "array([[0, 1, 0],\n",
       "       [1, 0, 0],\n",
       "       [1, 0, 0],\n",
       "       ...,\n",
       "       [0, 0, 1],\n",
       "       [0, 0, 1],\n",
       "       [0, 0, 1]], dtype=uint8)"
      ]
     },
     "execution_count": 26,
     "metadata": {},
     "output_type": "execute_result"
    }
   ],
   "source": [
    "y"
   ]
  },
  {
   "cell_type": "code",
   "execution_count": 27,
   "metadata": {
    "scrolled": true
   },
   "outputs": [
    {
     "data": {
      "text/plain": [
       "(457, 3)"
      ]
     },
     "execution_count": 27,
     "metadata": {},
     "output_type": "execute_result"
    }
   ],
   "source": [
    "y.shape"
   ]
  },
  {
   "cell_type": "markdown",
   "metadata": {},
   "source": [
    "### Split training-test set"
   ]
  },
  {
   "cell_type": "code",
   "execution_count": 30,
   "metadata": {},
   "outputs": [],
   "source": [
    "X_train, X_test, y_train, y_test = train_test_split(X, y, test_size = 0.2, random_state = 42)"
   ]
  },
  {
   "cell_type": "code",
   "execution_count": 34,
   "metadata": {},
   "outputs": [
    {
     "data": {
      "text/plain": [
       "(365, 3)"
      ]
     },
     "execution_count": 34,
     "metadata": {},
     "output_type": "execute_result"
    }
   ],
   "source": [
    "X_train.shape"
   ]
  },
  {
   "cell_type": "code",
   "execution_count": 35,
   "metadata": {
    "scrolled": true
   },
   "outputs": [
    {
     "data": {
      "text/plain": [
       "(365, 3)"
      ]
     },
     "execution_count": 35,
     "metadata": {},
     "output_type": "execute_result"
    }
   ],
   "source": [
    "y_train.shape"
   ]
  },
  {
   "cell_type": "markdown",
   "metadata": {},
   "source": [
    "### Classificazione\n",
    "* Date le quote dell'1, dell'X e del 2 voglio predire l'esito della partita\n",
    "* L'esito della partita è una classe\n",
    "* In totale ho 3 classi (DRAW, TEAM1, TEAM2)\n",
    "    * Un vettore (1, 0, 0) -> DRAW\n",
    "    * Un vettore (0, 1, 0) -> TEAM1\n",
    "    * Un vettore (0, 0, 1) -> TEAM2\n",
    "* Questo è un problema di **multiclass classification**\n",
    "    * In sklearn gli unici classificatori che implementano una classificazione multiclasse sono\n",
    "        * Decision trees\n",
    "        * Random Forest\n",
    "        * Nearest Neighbours\n",
    "    * In via *\"eccezionale\"* è possibile usare anche la LogisticRegression\n",
    "        * OneVsRestClassification\n",
    "        * Ma è una forzatura\n",
    "* Ho deciso di utilizzare Random Forest"
   ]
  },
  {
   "cell_type": "code",
   "execution_count": 87,
   "metadata": {},
   "outputs": [],
   "source": [
    "# n_estimators = numero di alberi, si può giocare un po' con questo valore\n",
    "classifier = RandomForestClassifier(n_estimators=10, criterion='entropy')"
   ]
  },
  {
   "cell_type": "code",
   "execution_count": 88,
   "metadata": {},
   "outputs": [
    {
     "data": {
      "text/plain": [
       "RandomForestClassifier(bootstrap=True, class_weight=None, criterion='entropy',\n",
       "            max_depth=None, max_features='auto', max_leaf_nodes=None,\n",
       "            min_impurity_decrease=0.0, min_impurity_split=None,\n",
       "            min_samples_leaf=1, min_samples_split=2,\n",
       "            min_weight_fraction_leaf=0.0, n_estimators=10, n_jobs=1,\n",
       "            oob_score=False, random_state=None, verbose=0,\n",
       "            warm_start=False)"
      ]
     },
     "execution_count": 88,
     "metadata": {},
     "output_type": "execute_result"
    }
   ],
   "source": [
    "classifier.fit(X_train, y_train)"
   ]
  },
  {
   "cell_type": "code",
   "execution_count": 91,
   "metadata": {},
   "outputs": [],
   "source": [
    "y_predicted_test = classifier.predict(X_train)\n",
    "y_predicted = classifier.predict(X_test)"
   ]
  },
  {
   "cell_type": "code",
   "execution_count": 92,
   "metadata": {},
   "outputs": [
    {
     "data": {
      "text/plain": [
       "0.8575342465753425"
      ]
     },
     "execution_count": 92,
     "metadata": {},
     "output_type": "execute_result"
    }
   ],
   "source": [
    "accuracy_score(y_train, y_predicted_test, normalize=True, sample_weight=None)"
   ]
  },
  {
   "cell_type": "code",
   "execution_count": 93,
   "metadata": {
    "scrolled": true
   },
   "outputs": [
    {
     "data": {
      "text/plain": [
       "0.3695652173913043"
      ]
     },
     "execution_count": 93,
     "metadata": {},
     "output_type": "execute_result"
    }
   ],
   "source": [
    "accuracy_score(y_test, y_predicted, normalize=True, sample_weight=None)"
   ]
  },
  {
   "cell_type": "markdown",
   "metadata": {},
   "source": [
    "### Problemi\n",
    "* Accuracy bassissima sul test set ed abbastanza alta sul training set\n",
    "    * Chiaro segno di **overfitting**\n",
    "* Perché?\n",
    "    * Troppe poche features considerate (solo quote 1, X, 2)\n",
    "        * Troppo difficile generalizzare pattern solo su questi 3 valori\n",
    "    * Troppe poche righe nel dataset (457, da splittare tra training e test set)\n",
    "        * Ne servono **almeno** 10 volte di più"
   ]
  },
  {
   "cell_type": "markdown",
   "metadata": {},
   "source": [
    "### Nuovo Dataset\n",
    "* Ampliamo il nostro dataset utilizzando lo script, raccogliendo anche informazioni circa altri campionati/leghe\n",
    "    * Ripetiamo i precedenti passi\n",
    "* Che risultati ci aspettiamo?\n",
    "    * Sicuramente un aumento, seppur lieve, della accuracy\n",
    "        * Con il nuovo dataset di più di 3000 elementi possiamo suddividere meglio training set e test set"
   ]
  },
  {
   "cell_type": "code",
   "execution_count": 12,
   "metadata": {},
   "outputs": [],
   "source": [
    "df = pd.read_csv('./matches_new.csv')"
   ]
  },
  {
   "cell_type": "code",
   "execution_count": 13,
   "metadata": {},
   "outputs": [
    {
     "data": {
      "text/plain": [
       "3196"
      ]
     },
     "execution_count": 13,
     "metadata": {},
     "output_type": "execute_result"
    }
   ],
   "source": [
    "len(df) # dimensioni dataset"
   ]
  },
  {
   "cell_type": "code",
   "execution_count": 14,
   "metadata": {},
   "outputs": [],
   "source": [
    "#Ripeto i passaggi precedenti con il nuovo dataset\n",
    "outcome_encoded = pd.get_dummies(df['outcome']) # faccio OneHotEncoding sulla colonna 'outcome'\n",
    "df = pd.concat([df, outcome_encoded], axis = 1) # concateno le colonne risultato del OHE a df\n",
    "X = df.loc[:, ['team1_odds', 'team2_odds', 'draw_odds']].values # values per convertire il DataFrame in numpy array\n",
    "y = df.loc[:, ['DRAW', 'TEAM1', 'TEAM2']].values\n",
    "X_train, X_test, y_train, y_test = train_test_split(X, y, test_size = 0.2, random_state = 42)\n",
    "classifier = RandomForestClassifier(n_estimators=10, criterion='entropy')\n",
    "classifier.fit(X_train, y_train)\n",
    "y_predicted_test = classifier.predict(X_train)\n",
    "y_predicted = classifier.predict(X_test)"
   ]
  },
  {
   "cell_type": "code",
   "execution_count": 15,
   "metadata": {},
   "outputs": [
    {
     "data": {
      "text/plain": [
       "0.9107981220657277"
      ]
     },
     "execution_count": 15,
     "metadata": {},
     "output_type": "execute_result"
    }
   ],
   "source": [
    "accuracy_score(y_train, y_predicted_test, normalize=True, sample_weight=None)"
   ]
  },
  {
   "cell_type": "code",
   "execution_count": 23,
   "metadata": {},
   "outputs": [
    {
     "data": {
      "text/plain": [
       "0.603125"
      ]
     },
     "execution_count": 23,
     "metadata": {},
     "output_type": "execute_result"
    }
   ],
   "source": [
    "accuracy_score(y_test, y_predicted, normalize=True, sample_weight=None)"
   ]
  },
  {
   "cell_type": "code",
   "execution_count": 29,
   "metadata": {},
   "outputs": [],
   "source": [
    "pred_set = []\n",
    "for index, row in df.iterrows():\n",
    "    if row['team1_odds'] < row['team2_odds']:\n",
    "        pred_set.append({'team1': row['team1'], 'team2': row['team2'], 'winning_team': None})\n",
    "    else:\n",
    "        pred_set.append({'team1': row['team1'], 'team2': row['team2'], 'winning_team': None})\n",
    "pred_set = pd.DataFrame(pred_set)"
   ]
  },
  {
   "cell_type": "code",
   "execution_count": 30,
   "metadata": {},
   "outputs": [
    {
     "data": {
      "text/html": [
       "<div>\n",
       "<style scoped>\n",
       "    .dataframe tbody tr th:only-of-type {\n",
       "        vertical-align: middle;\n",
       "    }\n",
       "\n",
       "    .dataframe tbody tr th {\n",
       "        vertical-align: top;\n",
       "    }\n",
       "\n",
       "    .dataframe thead th {\n",
       "        text-align: right;\n",
       "    }\n",
       "</style>\n",
       "<table border=\"1\" class=\"dataframe\">\n",
       "  <thead>\n",
       "    <tr style=\"text-align: right;\">\n",
       "      <th></th>\n",
       "      <th>team1</th>\n",
       "      <th>team2</th>\n",
       "      <th>winning_team</th>\n",
       "    </tr>\n",
       "  </thead>\n",
       "  <tbody>\n",
       "    <tr>\n",
       "      <th>0</th>\n",
       "      <td>Tre Fiori (San)</td>\n",
       "      <td>Bala (Wal)</td>\n",
       "      <td>None</td>\n",
       "    </tr>\n",
       "    <tr>\n",
       "      <th>1</th>\n",
       "      <td>B36 Torshavn (Fai)</td>\n",
       "      <td>St Josephs (Gib)</td>\n",
       "      <td>None</td>\n",
       "    </tr>\n",
       "    <tr>\n",
       "      <th>2</th>\n",
       "      <td>Druids (Wal)</td>\n",
       "      <td>Trakai (Ltu)</td>\n",
       "      <td>None</td>\n",
       "    </tr>\n",
       "    <tr>\n",
       "      <th>3</th>\n",
       "      <td>UE Engordany (And)</td>\n",
       "      <td>Folgore (San)</td>\n",
       "      <td>None</td>\n",
       "    </tr>\n",
       "    <tr>\n",
       "      <th>4</th>\n",
       "      <td>Birkirkara (Mlt)</td>\n",
       "      <td>Klaksvik (Fai)</td>\n",
       "      <td>None</td>\n",
       "    </tr>\n",
       "  </tbody>\n",
       "</table>\n",
       "</div>"
      ],
      "text/plain": [
       "                 team1               team2 winning_team\n",
       "0     Tre Fiori (San)         Bala (Wal)           None\n",
       "1  B36 Torshavn (Fai)   St Josephs (Gib)           None\n",
       "2        Druids (Wal)       Trakai (Ltu)           None\n",
       "3  UE Engordany (And)      Folgore (San)           None\n",
       "4    Birkirkara (Mlt)     Klaksvik (Fai)           None"
      ]
     },
     "execution_count": 30,
     "metadata": {},
     "output_type": "execute_result"
    }
   ],
   "source": [
    "backup_pred_set = pred_set\n",
    "\n",
    "pred_set.head()"
   ]
  },
  {
   "cell_type": "code",
   "execution_count": 41,
   "metadata": {},
   "outputs": [
    {
     "data": {
      "text/html": [
       "<div>\n",
       "<style scoped>\n",
       "    .dataframe tbody tr th:only-of-type {\n",
       "        vertical-align: middle;\n",
       "    }\n",
       "\n",
       "    .dataframe tbody tr th {\n",
       "        vertical-align: top;\n",
       "    }\n",
       "\n",
       "    .dataframe thead th {\n",
       "        text-align: right;\n",
       "    }\n",
       "</style>\n",
       "<table border=\"1\" class=\"dataframe\">\n",
       "  <thead>\n",
       "    <tr style=\"text-align: right;\">\n",
       "      <th></th>\n",
       "      <th>DRAW</th>\n",
       "      <th>TEAM1</th>\n",
       "      <th>TEAM2</th>\n",
       "    </tr>\n",
       "  </thead>\n",
       "  <tbody>\n",
       "    <tr>\n",
       "      <th>0</th>\n",
       "      <td>0</td>\n",
       "      <td>0</td>\n",
       "      <td>0</td>\n",
       "    </tr>\n",
       "    <tr>\n",
       "      <th>1</th>\n",
       "      <td>0</td>\n",
       "      <td>0</td>\n",
       "      <td>0</td>\n",
       "    </tr>\n",
       "    <tr>\n",
       "      <th>2</th>\n",
       "      <td>0</td>\n",
       "      <td>0</td>\n",
       "      <td>0</td>\n",
       "    </tr>\n",
       "    <tr>\n",
       "      <th>3</th>\n",
       "      <td>0</td>\n",
       "      <td>0</td>\n",
       "      <td>0</td>\n",
       "    </tr>\n",
       "    <tr>\n",
       "      <th>4</th>\n",
       "      <td>0</td>\n",
       "      <td>0</td>\n",
       "      <td>0</td>\n",
       "    </tr>\n",
       "  </tbody>\n",
       "</table>\n",
       "</div>"
      ],
      "text/plain": [
       "   DRAW  TEAM1  TEAM2\n",
       "0     0      0      0\n",
       "1     0      0      0\n",
       "2     0      0      0\n",
       "3     0      0      0\n",
       "4     0      0      0"
      ]
     },
     "execution_count": 41,
     "metadata": {},
     "output_type": "execute_result"
    }
   ],
   "source": [
    "# Add missing columns compared to the model's training dataset\n",
    "missing_cols = set(outcome_encoded.columns) - set(pred_set.columns)\n",
    "for c in missing_cols:\n",
    "    pred_set[c] = 0\n",
    "pred_set = pred_set[outcome_encoded.columns]\n",
    "\n",
    "# Remove winning team column\n",
    "\n",
    "\n",
    "pred_set.head()"
   ]
  },
  {
   "cell_type": "code",
   "execution_count": null,
   "metadata": {},
   "outputs": [],
   "source": []
  }
 ],
 "metadata": {
  "kernelspec": {
   "display_name": "Python 3",
   "language": "python",
   "name": "python3"
  },
  "language_info": {
   "codemirror_mode": {
    "name": "ipython",
    "version": 3
   },
   "file_extension": ".py",
   "mimetype": "text/x-python",
   "name": "python",
   "nbconvert_exporter": "python",
   "pygments_lexer": "ipython3",
   "version": "3.6.4"
  }
 },
 "nbformat": 4,
 "nbformat_minor": 2
}
